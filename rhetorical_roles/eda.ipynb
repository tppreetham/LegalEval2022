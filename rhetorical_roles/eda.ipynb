{
 "cells": [
  {
   "cell_type": "code",
   "execution_count": 5,
   "metadata": {},
   "outputs": [],
   "source": [
    "import matplotlib.pyplot as plt\n",
    "import pandas as pd\n",
    "import seaborn as sns\n",
    "import pickle\n",
    "import os\n",
    "def plot_met_curves(f1_met, loss_met, lang):\n",
    "    '''\n",
    "    plots f1 and loss curves\n",
    "    '''\n",
    "    train_val_f1_df = pd.DataFrame.from_dict(f1_met).reset_index().melt(id_vars=['index']).rename(columns={\"index\":\"epochs\"})\n",
    "    train_val_loss_df = pd.DataFrame.from_dict(loss_met).reset_index().melt(id_vars=['index']).rename(columns={\"index\":\"epochs\"})\n",
    "\n",
    "    fig, axes = plt.subplots(nrows=1, ncols=2, figsize=(20,7))\n",
    "\n",
    "    sns.lineplot(data=train_val_f1_df, x = \"epochs\", y=\"value\", hue=\"variable\",  ax=axes[0]).set_title(f'{lang} Train-Val F1/Epoch')\n",
    "    sns.lineplot(data=train_val_loss_df, x = \"epochs\", y=\"value\", hue=\"variable\", ax=axes[1]).set_title(f'{lang} Train-Val Loss/Epoch')\n",
    "    \n",
    "    plt.savefig(f'./bert_multilingual/results/{lang}_metrics.png')"
   ]
  },
  {
   "cell_type": "code",
   "execution_count": 4,
   "metadata": {},
   "outputs": [
    {
     "data": {
      "text/plain": [
       "['legal-bert',\n",
       " 'scibert_lstm',\n",
       " 'test_res.py',\n",
       " 'lsg_bart_large',\n",
       " 'tfidf_lstm',\n",
       " 'ensemble',\n",
       " 'scibert_tok_lstm',\n",
       " 'han',\n",
       " 'bert-lstm',\n",
       " 'funnel_small',\n",
       " 'bigbird',\n",
       " 'bert-base-uncased',\n",
       " 'distilbert',\n",
       " 'deberta_tok_seq',\n",
       " 'longformer',\n",
       " 'eda.ipynb']"
      ]
     },
     "execution_count": 4,
     "metadata": {},
     "output_type": "execute_result"
    }
   ],
   "source": [
    "models_dir = os.chdir('/home/preethamthava/LegalEval2022/rhetorical_roles/')\n",
    "model_dirs = os.listdir()\n",
    "\n",
    "for m in model_dirs:\n",
    "    path = f'{m}/results'\n",
    "    if os.path.exists(path):\n",
    "        results = os.chdir(path)\n",
    "        if len(results) !=0:\n",
    "            f1_res, loss_res = results[0], results[1]\n",
    "\n",
    "            with open(f1_res, 'rb') as f:\n",
    "                f1_met = pickle.load(f)\n",
    "\n",
    "            with open(loss_res, 'rb') as f:\n",
    "                loss_met = pickle.load(f)\n",
    "\n",
    "            plot_met_curves(f1_met, loss_met, 'all')\n"
   ]
  },
  {
   "cell_type": "code",
   "execution_count": 2,
   "metadata": {},
   "outputs": [
    {
     "ename": "FileNotFoundError",
     "evalue": "[Errno 2] No such file or directory: './bert_multilingual/results/f1_met_all.pkl'",
     "output_type": "error",
     "traceback": [
      "\u001b[0;31m---------------------------------------------------------------------------\u001b[0m",
      "\u001b[0;31mFileNotFoundError\u001b[0m                         Traceback (most recent call last)",
      "\u001b[0;32m/tmp/ipykernel_16143/4141101737.py\u001b[0m in \u001b[0;36m<module>\u001b[0;34m\u001b[0m\n\u001b[0;32m----> 1\u001b[0;31m \u001b[0;32mwith\u001b[0m \u001b[0mopen\u001b[0m\u001b[0;34m(\u001b[0m\u001b[0;34m'./bert_multilingual/results/f1_met_all.pkl'\u001b[0m\u001b[0;34m,\u001b[0m \u001b[0;34m'rb'\u001b[0m\u001b[0;34m)\u001b[0m \u001b[0;32mas\u001b[0m \u001b[0mf\u001b[0m\u001b[0;34m:\u001b[0m\u001b[0;34m\u001b[0m\u001b[0;34m\u001b[0m\u001b[0m\n\u001b[0m\u001b[1;32m      2\u001b[0m     \u001b[0mf1_met\u001b[0m \u001b[0;34m=\u001b[0m \u001b[0mpickle\u001b[0m\u001b[0;34m.\u001b[0m\u001b[0mload\u001b[0m\u001b[0;34m(\u001b[0m\u001b[0mf\u001b[0m\u001b[0;34m)\u001b[0m\u001b[0;34m\u001b[0m\u001b[0;34m\u001b[0m\u001b[0m\n\u001b[1;32m      3\u001b[0m \u001b[0;34m\u001b[0m\u001b[0m\n\u001b[1;32m      4\u001b[0m \u001b[0;32mwith\u001b[0m \u001b[0mopen\u001b[0m\u001b[0;34m(\u001b[0m\u001b[0;34m'./bert_multilingual/results/loss_met_all.pkl'\u001b[0m\u001b[0;34m,\u001b[0m \u001b[0;34m'rb'\u001b[0m\u001b[0;34m)\u001b[0m \u001b[0;32mas\u001b[0m \u001b[0mf\u001b[0m\u001b[0;34m:\u001b[0m\u001b[0;34m\u001b[0m\u001b[0;34m\u001b[0m\u001b[0m\n\u001b[1;32m      5\u001b[0m     \u001b[0mloss_met\u001b[0m \u001b[0;34m=\u001b[0m \u001b[0mpickle\u001b[0m\u001b[0;34m.\u001b[0m\u001b[0mload\u001b[0m\u001b[0;34m(\u001b[0m\u001b[0mf\u001b[0m\u001b[0;34m)\u001b[0m\u001b[0;34m\u001b[0m\u001b[0;34m\u001b[0m\u001b[0m\n",
      "\u001b[0;31mFileNotFoundError\u001b[0m: [Errno 2] No such file or directory: './bert_multilingual/results/f1_met_all.pkl'"
     ]
    }
   ],
   "source": [
    "import os\n",
    "with open('./bert_multilingual/results/f1_met_all.pkl', 'rb') as f:\n",
    "    f1_met = pickle.load(f)\n",
    "\n",
    "with open('./bert_multilingual/results/loss_met_all.pkl', 'rb') as f:\n",
    "    loss_met = pickle.load(f)\n",
    "\n",
    "plot_met_curves(f1_met, loss_met, 'all')"
   ]
  },
  {
   "cell_type": "code",
   "execution_count": null,
   "metadata": {},
   "outputs": [],
   "source": []
  }
 ],
 "metadata": {
  "kernelspec": {
   "display_name": "base",
   "language": "python",
   "name": "python3"
  },
  "language_info": {
   "codemirror_mode": {
    "name": "ipython",
    "version": 3
   },
   "file_extension": ".py",
   "mimetype": "text/x-python",
   "name": "python",
   "nbconvert_exporter": "python",
   "pygments_lexer": "ipython3",
   "version": "3.7.12"
  },
  "orig_nbformat": 4,
  "vscode": {
   "interpreter": {
    "hash": "d4d1e4263499bec80672ea0156c357c1ee493ec2b1c70f0acce89fc37c4a6abe"
   }
  }
 },
 "nbformat": 4,
 "nbformat_minor": 2
}
